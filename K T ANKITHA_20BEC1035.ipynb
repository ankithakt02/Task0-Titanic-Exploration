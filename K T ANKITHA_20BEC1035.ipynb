{
  "nbformat": 4,
  "nbformat_minor": 0,
  "metadata": {
    "colab": {
      "name": "Untitled0.ipynb",
      "provenance": [],
      "collapsed_sections": [],
      "authorship_tag": "ABX9TyPPdU+/87VU/GZy5Njkv8J3",
      "include_colab_link": true
    },
    "kernelspec": {
      "name": "python3",
      "display_name": "Python 3"
    },
    "language_info": {
      "name": "python"
    }
  },
  "cells": [
    {
      "cell_type": "markdown",
      "metadata": {
        "id": "view-in-github",
        "colab_type": "text"
      },
      "source": [
        "<a href=\"https://colab.research.google.com/github/ankithakt02/Task0-Titanic-Exploration/blob/main/K%20T%20ANKITHA_20BEC1035.ipynb\" target=\"_parent\"><img src=\"https://colab.research.google.com/assets/colab-badge.svg\" alt=\"Open In Colab\"/></a>"
      ]
    },
    {
      "cell_type": "code",
      "metadata": {
        "id": "e6y19sPcy3V4"
      },
      "source": [
        "import pandas as pd\n",
        "import numpy as np\n",
        "import matplotlib.pyplot as plt"
      ],
      "execution_count": 23,
      "outputs": []
    },
    {
      "cell_type": "code",
      "metadata": {
        "colab": {
          "base_uri": "https://localhost:8080/"
        },
        "id": "jj5mPVhZASWR",
        "outputId": "2eb1b4ec-730f-40d2-8710-8a2fc3fa5ef1"
      },
      "source": [
        "from google.colab import drive\n",
        "drive.mount('/content/drive')"
      ],
      "execution_count": 11,
      "outputs": [
        {
          "output_type": "stream",
          "name": "stdout",
          "text": [
            "Mounted at /content/drive\n"
          ]
        }
      ]
    },
    {
      "cell_type": "code",
      "metadata": {
        "id": "XUBfG-2__F0f"
      },
      "source": [
        "df = pd.read_csv('/content/drive/MyDrive/DAC_datasets/train.csv')"
      ],
      "execution_count": 12,
      "outputs": []
    },
    {
      "cell_type": "code",
      "metadata": {
        "colab": {
          "base_uri": "https://localhost:8080/"
        },
        "id": "w33lCxYH9pld",
        "outputId": "e11c4e92-bdba-47e9-f224-1c9f730df31c"
      },
      "source": [
        "df.isnull().sum()"
      ],
      "execution_count": 13,
      "outputs": [
        {
          "output_type": "execute_result",
          "data": {
            "text/plain": [
              "PassengerId      0\n",
              "Survived         0\n",
              "Pclass           0\n",
              "Name             0\n",
              "Sex              0\n",
              "Age            177\n",
              "SibSp            0\n",
              "Parch            0\n",
              "Ticket           0\n",
              "Fare             0\n",
              "Cabin          687\n",
              "Embarked         2\n",
              "dtype: int64"
            ]
          },
          "metadata": {},
          "execution_count": 13
        }
      ]
    },
    {
      "cell_type": "code",
      "metadata": {
        "id": "JBtXIER1-omJ"
      },
      "source": [
        "dcopy = df.copy(deep=True)"
      ],
      "execution_count": 14,
      "outputs": []
    },
    {
      "cell_type": "code",
      "metadata": {
        "id": "3qyoSp8F-RBi"
      },
      "source": [
        "dcopy.dropna(axis=0,inplace=True)"
      ],
      "execution_count": 15,
      "outputs": []
    },
    {
      "cell_type": "code",
      "metadata": {
        "colab": {
          "base_uri": "https://localhost:8080/"
        },
        "id": "QAqZYOHi-4VN",
        "outputId": "71fef4e5-4267-4073-dc84-bbadccf09b0c"
      },
      "source": [
        "dcopy.isnull().sum()"
      ],
      "execution_count": 16,
      "outputs": [
        {
          "output_type": "execute_result",
          "data": {
            "text/plain": [
              "PassengerId    0\n",
              "Survived       0\n",
              "Pclass         0\n",
              "Name           0\n",
              "Sex            0\n",
              "Age            0\n",
              "SibSp          0\n",
              "Parch          0\n",
              "Ticket         0\n",
              "Fare           0\n",
              "Cabin          0\n",
              "Embarked       0\n",
              "dtype: int64"
            ]
          },
          "metadata": {},
          "execution_count": 16
        }
      ]
    },
    {
      "cell_type": "code",
      "metadata": {
        "colab": {
          "base_uri": "https://localhost:8080/"
        },
        "id": "mpBMRq68--eF",
        "outputId": "a7c39f28-4749-459c-d0c4-8ed3e0a0c1aa"
      },
      "source": [
        "df.shape"
      ],
      "execution_count": 17,
      "outputs": [
        {
          "output_type": "execute_result",
          "data": {
            "text/plain": [
              "(891, 12)"
            ]
          },
          "metadata": {},
          "execution_count": 17
        }
      ]
    },
    {
      "cell_type": "code",
      "metadata": {
        "colab": {
          "base_uri": "https://localhost:8080/"
        },
        "id": "MhzwSvXh_A7s",
        "outputId": "8fd43895-08be-408b-fbf6-98a951c4a5f0"
      },
      "source": [
        "dcopy.shape"
      ],
      "execution_count": 18,
      "outputs": [
        {
          "output_type": "execute_result",
          "data": {
            "text/plain": [
              "(183, 12)"
            ]
          },
          "metadata": {},
          "execution_count": 18
        }
      ]
    },
    {
      "cell_type": "code",
      "metadata": {
        "id": "zfxo1p3g_PoV"
      },
      "source": [
        "dcopy.drop(columns=['Name','PassengerId'],inplace=True)"
      ],
      "execution_count": 19,
      "outputs": []
    },
    {
      "cell_type": "code",
      "metadata": {
        "id": "nKgOhpjv_0Ze",
        "colab": {
          "base_uri": "https://localhost:8080/"
        },
        "outputId": "0e128e6f-2899-48bc-bf2e-9da18b337ab7"
      },
      "source": [
        "dcopy.info()"
      ],
      "execution_count": 20,
      "outputs": [
        {
          "output_type": "stream",
          "name": "stdout",
          "text": [
            "<class 'pandas.core.frame.DataFrame'>\n",
            "Int64Index: 183 entries, 1 to 889\n",
            "Data columns (total 10 columns):\n",
            " #   Column    Non-Null Count  Dtype  \n",
            "---  ------    --------------  -----  \n",
            " 0   Survived  183 non-null    int64  \n",
            " 1   Pclass    183 non-null    int64  \n",
            " 2   Sex       183 non-null    object \n",
            " 3   Age       183 non-null    float64\n",
            " 4   SibSp     183 non-null    int64  \n",
            " 5   Parch     183 non-null    int64  \n",
            " 6   Ticket    183 non-null    object \n",
            " 7   Fare      183 non-null    float64\n",
            " 8   Cabin     183 non-null    object \n",
            " 9   Embarked  183 non-null    object \n",
            "dtypes: float64(2), int64(4), object(4)\n",
            "memory usage: 15.7+ KB\n"
          ]
        }
      ]
    },
    {
      "cell_type": "code",
      "metadata": {
        "id": "7l76cDIWA21Y"
      },
      "source": [
        "data1 = dcopy.iloc[:147]\n",
        "data2 = dcopy.iloc[147:]"
      ],
      "execution_count": 21,
      "outputs": []
    },
    {
      "cell_type": "code",
      "metadata": {
        "colab": {
          "base_uri": "https://localhost:8080/",
          "height": 295
        },
        "id": "sOeV5lS0BDaI",
        "outputId": "584c42d0-5caa-4b87-a7bb-5f34831c6db3"
      },
      "source": [
        "plt.hist(dcopy['Fare'], color='red', edgecolor='white', bins=None)\n",
        "plt.title('Histogram Fare vs. Frequency')\n",
        "plt.xlabel('Fare')\n",
        "plt.ylabel('Frequency')\n",
        "plt.show()"
      ],
      "execution_count": 24,
      "outputs": [
        {
          "output_type": "display_data",
          "data": {
            "image/png": "[encoded data removed]",
            "text/plain": [
              "<Figure size 432x288 with 1 Axes>"
            ]
          },
          "metadata": {
            "needs_background": "light"
          }
        }
      ]
    },
    {
      "cell_type": "code",
      "metadata": {
        "colab": {
          "base_uri": "https://localhost:8080/",
          "height": 295
        },
        "id": "TK_ixtIMBZfg",
        "outputId": "31c4f012-b5aa-447b-874a-2e80072c7781"
      },
      "source": [
        "plt.hist(dcopy['Age'], color='red', edgecolor='white', bins=None)\n",
        "plt.title('Histogram Age vs. Frequency')\n",
        "plt.xlabel('Age')\n",
        "plt.ylabel('Frequency')\n",
        "plt.show()"
      ],
      "execution_count": 26,
      "outputs": [
        {
          "output_type": "display_data",
          "data": {
            "image/png": "[encoded data removed]",
            "text/plain": [
              "<Figure size 432x288 with 1 Axes>"
            ]
          },
          "metadata": {
            "needs_background": "light"
          }
        }
      ]
    },
    {
      "cell_type": "code",
      "metadata": {
        "colab": {
          "base_uri": "https://localhost:8080/"
        },
        "id": "CAEKa7E2Tv60",
        "outputId": "14ea36b6-c4e7-48ac-a832-f39dbe32e914"
      },
      "source": [
        "print(dcopy['Survived'].value_counts())"
      ],
      "execution_count": 31,
      "outputs": [
        {
          "output_type": "stream",
          "name": "stdout",
          "text": [
            "1    123\n",
            "0     60\n",
            "Name: Survived, dtype: int64\n"
          ]
        }
      ]
    },
    {
      "cell_type": "code",
      "metadata": {
        "colab": {
          "base_uri": "https://localhost:8080/",
          "height": 281
        },
        "id": "VyFEqOJiBmcJ",
        "outputId": "66597779-167f-464c-c85c-93d24984213c"
      },
      "source": [
        "plt.bar(np.arange(2), [60,123],color=['green','blue'])\n",
        "plt.title('Survived')\n",
        "plt.xticks([0,1],['No','Yes'])\n",
        "plt.show()"
      ],
      "execution_count": 40,
      "outputs": [
        {
          "output_type": "display_data",
          "data": {
            "image/png": "[encoded data removed]",
            "text/plain": [
              "<Figure size 432x288 with 1 Axes>"
            ]
          },
          "metadata": {
            "needs_background": "light"
          }
        }
      ]
    },
    {
      "cell_type": "code",
      "metadata": {
        "colab": {
          "base_uri": "https://localhost:8080/"
        },
        "id": "MHOmxIIiWOG1",
        "outputId": "303dcbc2-5f69-4110-c185-94d0d097d325"
      },
      "source": [
        "print(dcopy['Sex'].value_counts())"
      ],
      "execution_count": 43,
      "outputs": [
        {
          "output_type": "stream",
          "name": "stdout",
          "text": [
            "male      95\n",
            "female    88\n",
            "Name: Sex, dtype: int64\n"
          ]
        }
      ]
    },
    {
      "cell_type": "code",
      "metadata": {
        "colab": {
          "base_uri": "https://localhost:8080/",
          "height": 281
        },
        "id": "qxVJqK93Whie",
        "outputId": "1d4e2581-749b-4f57-858c-f23e0a2d75fb"
      },
      "source": [
        "plt.bar(np.arange(2), [95,88],color=['blue','red'])\n",
        "plt.title('Gender')\n",
        "plt.xticks([0,1],['male','female'])\n",
        "plt.show()"
      ],
      "execution_count": 46,
      "outputs": [
        {
          "output_type": "display_data",
          "data": {
            "image/png": "[encoded data removed]",
            "text/plain": [
              "<Figure size 432x288 with 1 Axes>"
            ]
          },
          "metadata": {
            "needs_background": "light"
          }
        }
      ]
    },
    {
      "cell_type": "code",
      "metadata": {
        "colab": {
          "base_uri": "https://localhost:8080/"
        },
        "id": "QOCbXB49W9oP",
        "outputId": "92203cc3-fdaa-42f0-dc97-fd28fd6a3ecd"
      },
      "source": [
        "print(dcopy['Pclass'].value_counts())"
      ],
      "execution_count": 48,
      "outputs": [
        {
          "output_type": "stream",
          "name": "stdout",
          "text": [
            "1    158\n",
            "2     15\n",
            "3     10\n",
            "Name: Pclass, dtype: int64\n"
          ]
        }
      ]
    },
    {
      "cell_type": "code",
      "metadata": {
        "colab": {
          "base_uri": "https://localhost:8080/",
          "height": 281
        },
        "id": "FJBEcDdUXF8-",
        "outputId": "3679d253-ed03-4a49-8163-002319e7f661"
      },
      "source": [
        "plt.bar(np.arange(3), [158,15,10],color='m')\n",
        "plt.title('Ticket Class')\n",
        "plt.xticks([0,1,2],['first','second','third'])\n",
        "plt.show()"
      ],
      "execution_count": 52,
      "outputs": [
        {
          "output_type": "display_data",
          "data": {
            "image/png": "[encoded data removed]",
            "text/plain": [
              "<Figure size 432x288 with 1 Axes>"
            ]
          },
          "metadata": {
            "needs_background": "light"
          }
        }
      ]
    },
    {
      "cell_type": "code",
      "metadata": {
        "colab": {
          "base_uri": "https://localhost:8080/"
        },
        "id": "16DkKEPoXnbG",
        "outputId": "bf9d09aa-501c-494e-b0a4-5e381ea7056f"
      },
      "source": [
        "print(dcopy['Embarked'].value_counts())"
      ],
      "execution_count": 53,
      "outputs": [
        {
          "output_type": "stream",
          "name": "stdout",
          "text": [
            "S    116\n",
            "C     65\n",
            "Q      2\n",
            "Name: Embarked, dtype: int64\n"
          ]
        }
      ]
    },
    {
      "cell_type": "code",
      "metadata": {
        "colab": {
          "base_uri": "https://localhost:8080/",
          "height": 281
        },
        "id": "QeT3UO0QXrJF",
        "outputId": "0146bf35-0760-4774-d50b-0d35b7d95958"
      },
      "source": [
        "plt.bar(np.arange(3), [116,65,2],color='c')\n",
        "plt.title('Port of embarkation')\n",
        "plt.xticks([0,1,2],['Cherbourg','Queenstown','Southampton'])\n",
        "plt.show()"
      ],
      "execution_count": 54,
      "outputs": [
        {
          "output_type": "display_data",
          "data": {
            "image/png": "[encoded data removed]",
            "text/plain": [
              "<Figure size 432x288 with 1 Axes>"
            ]
          },
          "metadata": {
            "needs_background": "light"
          }
        }
      ]
    }
  ]
}